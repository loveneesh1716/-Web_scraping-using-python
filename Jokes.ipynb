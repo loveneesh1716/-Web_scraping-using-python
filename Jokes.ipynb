{
 "cells": [
  {
   "cell_type": "markdown",
   "metadata": {},
   "source": [
    "# Chuk norris jokes\n"
   ]
  },
  {
   "cell_type": "code",
   "execution_count": 2,
   "metadata": {},
   "outputs": [
    {
     "name": "stdout",
     "output_type": "stream",
     "text": [
      " Enter number of jokes you want to Scrape 6\n",
      "Chuck Norris uses ribbed condoms inside out, so he gets the pleasure.\n",
      "MacGyver can build an airplane out of gum and paper clips. Chuck Norris can kill him and take it.\n",
      "Chuck Norris doesn't read books. He stares them down until he gets the information he wants.\n",
      "If you ask Chuck Norris what time it is, he always answers &quot;Two seconds till&quot;. After you ask &quot;Two seconds to what?&quot;, he roundhouse kicks you in the face.\n",
      "Chuck Norris lost his virginity before his dad did.\n",
      "Since 1940, the year Chuck Norris was born, roundhouse kick related deaths have increased 13,000 percent.\n",
      "Enter the joke Number4\n",
      "If you ask Chuck Norris what time it is, he always answers &quot;Two seconds till&quot;. After you ask &quot;Two seconds to what?&quot;, he roundhouse kicks you in the face.\n"
     ]
    }
   ],
   "source": [
    "import requests\n",
    "import json\n",
    "\n",
    "jokes_dict = {}\n",
    "\n",
    "number_of_jokes= int(input(' Enter number of jokes you want to Scrape '))\n",
    "\n",
    "#scrapping all the jokes and adding to the dictionary with their index\n",
    "for i in range(1, number_of_jokes+6):\n",
    "    jokes_url = f\"http://api.icndb.com/jokes/{i}\"\n",
    "    if json.loads(requests.get(jokes_url).content)['type'] == 'success':\n",
    "        jokes_dict[i] = (json.loads(requests.get(jokes_url).content)['value']['joke'])\n",
    "        print(jokes_dict[i])\n",
    "        \n",
    "joke_number = int(input(\"Enter the joke Number\"))\n",
    "\n",
    "print(jokes_dict[joke_number])\n"
   ]
  },
  {
   "cell_type": "code",
   "execution_count": null,
   "metadata": {},
   "outputs": [],
   "source": []
  }
 ],
 "metadata": {
  "kernelspec": {
   "display_name": "Python 3",
   "language": "python",
   "name": "python3"
  },
  "language_info": {
   "codemirror_mode": {
    "name": "ipython",
    "version": 3
   },
   "file_extension": ".py",
   "mimetype": "text/x-python",
   "name": "python",
   "nbconvert_exporter": "python",
   "pygments_lexer": "ipython3",
   "version": "3.9.1"
  }
 },
 "nbformat": 4,
 "nbformat_minor": 4
}
